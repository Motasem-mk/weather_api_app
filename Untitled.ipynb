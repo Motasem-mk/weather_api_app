{
 "cells": [
  {
   "cell_type": "code",
   "execution_count": null,
   "id": "db61e6e9",
   "metadata": {},
   "outputs": [],
   "source": [
    "from flask import Flask , request , render_template\n",
    "import requests\n",
    "\n",
    "app = Flask(__name__)\n",
    "\n",
    "@app.route(\"/\")\n",
    "def homepage():\n",
    "    return render_template(\"index.html\")\n",
    "@app.route(\"/weatherapp\",methods = ['POST', 'GET'])\n",
    "def get_weather_data():\n",
    "    apikey = \"b2bf094dcaea11b4df2a34e362d2ca1d\"\n",
    "    url = \"https://api.openweathermap.org/data/2.5/weather\"\n",
    "    params = {  'q': \"strasbourg\",\n",
    "                'appid':apikey,\n",
    "                'units':\"mertic\"   }\n",
    "    response = requests.get(url,params=params)\n",
    "    data = response.json()\n",
    "    return f\"data: {data}\"\n",
    "if (__name__) == '__main__':\n",
    "    app.run(host = '0.0.0.0' , port = 5002)"
   ]
  }
 ],
 "metadata": {
  "kernelspec": {
   "display_name": "Python 3 (ipykernel)",
   "language": "python",
   "name": "python3"
  },
  "language_info": {
   "codemirror_mode": {
    "name": "ipython",
    "version": 3
   },
   "file_extension": ".py",
   "mimetype": "text/x-python",
   "name": "python",
   "nbconvert_exporter": "python",
   "pygments_lexer": "ipython3",
   "version": "3.9.12"
  }
 },
 "nbformat": 4,
 "nbformat_minor": 5
}
